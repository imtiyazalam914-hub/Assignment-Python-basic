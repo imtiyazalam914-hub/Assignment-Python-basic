{
  "nbformat": 4,
  "nbformat_minor": 0,
  "metadata": {
    "colab": {
      "provenance": []
    },
    "kernelspec": {
      "name": "python3",
      "display_name": "Python 3"
    },
    "language_info": {
      "name": "python"
    }
  },
  "cells": [
    {
      "cell_type": "markdown",
      "source": [
        "# 1. **What is Python, and why is it popular?**\n",
        "\n",
        "Python is a high-level, interpreted programming language known for its\n",
        "simplicity and readability. It's popular because of its easy syntax,\n",
        "wide community support, and vast libraries used in web development,\n",
        "data science, automation, AI, and more.\n",
        "\n",
        "# 2. **What is an interpreter in Python?**\n",
        "\n",
        "An interpreter is a program that reads and executes Python code line by line. It allows immediate execution and debugging without the need to compile thecode first.\n",
        "\n",
        "# 3. **What are pre-defined keywords in Python?**\n",
        "\n",
        "Pre-defined keywords are reserved words in Python that have special meanings, like if, for, True, None, class, etc. They are part of Python's syntax.\n",
        "\n",
        "# **4. Can keywords be used as variable names?**\n",
        "\n",
        "No, keywords cannot be used as variable names because they are reserved by Python and used to define language structure.\n",
        "\n",
        "# 5. **What is mutability in Python?**\n",
        "\n",
        "Mutability refers to whether an object can be changed after it is created.\n",
        "Mutable objects (like lists) can be modified; immutable ones (like strings and tuples) cannot.\n",
        "\n",
        "# 6. **Why are lists mutable, but tuples are immutable?**\n",
        "\n",
        "Lists are designed to hold dynamic data, allowing changes (add/remove/modify elements).\n",
        "Tuples are meant for fixed data, offering safety and better performance by being immutable.\n",
        "\n",
        "# 7. **What is the difference between == and is operators in Python?**\n",
        "\n",
        "== checks if values are equal.\n",
        "\n",
        "is checks if two variables refer to the same object in memory.\n",
        "\n",
        "# 8. **What are logical operators in Python?**\n",
        "\n",
        "Logical operators are used to combine conditional statements:\n",
        "\n",
        "and :- True if both conditions are true\n",
        "\n",
        "or :- True if at least one condition is true\n",
        "\n",
        "not :- Reverses the result\n",
        "\n",
        "# 9. **What is type casting in Python?**\n",
        "\n",
        "Type casting is the process of converting a variable from one type to another, like converting a string to an integer or a float.\n",
        "\n",
        "# 10. **What is the difference between implicit and explicit type casting?**\n",
        "\n",
        "Implicit: Python automatically converts the type (e.g., int + float becomes float).\n",
        "\n",
        "Explicit: The programmer manually converts the type using functions like int(), float(), str().\n",
        "\n",
        "# 11. **What is the purpose of conditional statements in Python?**\n",
        "\n",
        "Conditional statements (if, elif, else) are used to execute code blocks\n",
        " based on certain conditions, allowing the program to make decisions.\n",
        "\n",
        "# 12. **How does the elif statement work?**\n",
        "\n",
        "elif (short for \"else if\") allows you to check multiple conditions one after another. It only executes if the previous if or elif condition is false.\n",
        "\n",
        "# 13. **What is the difference between for and while loops?**\n",
        "\n",
        "for loop: Used when the number of iterations is known (e.g., looping through a list).\n",
        "\n",
        "while loop: Used when the loop should continue until a condition is no longer true.\n",
        "\n",
        "# 14. **Describe a scenario where a while loop is more suitable than a for loop.**\n",
        "\n",
        "A while loop is better when waiting for user input or a certain event, such as:\n",
        "\n",
        "# Keep asking until user types 'exit'\n",
        "user_input = \"\"\n",
        "\n",
        "while user_input != \"exit\":\n",
        "\n",
        "user_input = input(\"Type 'exit' to quit: \")"
      ],
      "metadata": {
        "id": "lrawZgbIjbNl"
      }
    },
    {
      "cell_type": "code",
      "source": [
        "# 1. Write a Python program to print \"Hello, World!\n",
        "print (\"Hello, World!\")"
      ],
      "metadata": {
        "colab": {
          "base_uri": "https://localhost:8080/"
        },
        "id": "JDut_HPsSVO7",
        "outputId": "273ba8a0-b1ad-4e27-c0a6-d9abc17ccc52"
      },
      "execution_count": null,
      "outputs": [
        {
          "output_type": "stream",
          "name": "stdout",
          "text": [
            "Hello, World!\n"
          ]
        }
      ]
    },
    {
      "cell_type": "code",
      "source": [
        "# 2. Write a Python program that displays your name and age.\n",
        "#Define your name and age\n",
        "name = \"Md Imtiyaz Alam\"\n",
        "age = 27\n",
        "print(\"My name is\", name)\n",
        "print(\"I am\", age, \"years old\")"
      ],
      "metadata": {
        "colab": {
          "base_uri": "https://localhost:8080/"
        },
        "id": "gNByV2BF6PhZ",
        "outputId": "f6a28eae-bab6-4fde-8a87-92278c0c6749"
      },
      "execution_count": null,
      "outputs": [
        {
          "output_type": "stream",
          "name": "stdout",
          "text": [
            "My name is Md Imtiyaz Alam\n",
            "I am 27 years old\n"
          ]
        }
      ]
    },
    {
      "cell_type": "code",
      "source": [
        "# 3.Write code to print all the pre-defined keywords in Python using the keyword library8\n",
        "print(\"Python Keywords are below:\")\n",
        "help('keywords')"
      ],
      "metadata": {
        "colab": {
          "base_uri": "https://localhost:8080/"
        },
        "id": "8o0fq2P66jOK",
        "outputId": "b4fbe1c3-3c80-4f42-8f85-8a6f83f1d3d8"
      },
      "execution_count": null,
      "outputs": [
        {
          "output_type": "stream",
          "name": "stdout",
          "text": [
            "Python Keywords are below:\n",
            "\n",
            "Here is a list of the Python keywords.  Enter any keyword to get more help.\n",
            "\n",
            "False               class               from                or\n",
            "None                continue            global              pass\n",
            "True                def                 if                  raise\n",
            "and                 del                 import              return\n",
            "as                  elif                in                  try\n",
            "assert              else                is                  while\n",
            "async               except              lambda              with\n",
            "await               finally             nonlocal            yield\n",
            "break               for                 not                 \n",
            "\n"
          ]
        }
      ]
    },
    {
      "cell_type": "code",
      "source": [
        "# 4.Write a program that checks if a given word is a Python keyword\n",
        "import keyword\n",
        "word = input(\"Enter any word to check Python keyword: \")\n",
        "if keyword.iskeyword(word):\n",
        "  print(word, \"is a Python keyword.\")\n",
        "else:\n",
        "    print(word,\" is not a Python keyword.\")"
      ],
      "metadata": {
        "colab": {
          "base_uri": "https://localhost:8080/"
        },
        "id": "gskQq_nr9q2Z",
        "outputId": "9c03e00b-1ea2-4171-9d84-641d79a3ef2c"
      },
      "execution_count": null,
      "outputs": [
        {
          "output_type": "stream",
          "name": "stdout",
          "text": [
            "Enter any word to check Python keyword: ds\n",
            "ds  is not a Python keyword.\n"
          ]
        }
      ]
    },
    {
      "cell_type": "code",
      "source": [
        "\"\"\" 5.Create a list and tuple in Python, and demonstrate how attempting to change an element works differently\n",
        "for each.\"\"\"\n",
        "\n",
        "#List\n",
        "list_cont = [1,2.3, 4+5j, True, \"Imtiyaz\"]\n",
        "print (\"Original list: \", list_cont)\n",
        "list_cont[0] = 2  #replace word from list cont[0]\n",
        "print(\"After value change in list: \", list_cont)\n",
        "\n",
        "#Tuple\n",
        "tuple_cont = (1,2,34,5,55,45,33)\n",
        "print (\"Original tuple: \", tuple_cont)\n",
        "tuple_cont[2] = 22  #replace word from list cont[2]\n",
        "print (\"After change tuple: \", tuple_cont)  #it gives error ('Tuple' does not support item assignment)\n",
        "\n",
        "\n",
        "\n"
      ],
      "metadata": {
        "colab": {
          "base_uri": "https://localhost:8080/",
          "height": 263
        },
        "id": "6SjmgD8c_W9t",
        "outputId": "a5544531-576e-4cb4-f382-6768be95e14f"
      },
      "execution_count": 4,
      "outputs": [
        {
          "output_type": "stream",
          "name": "stdout",
          "text": [
            "Original list:  [1, 2.3, (4+5j), True, 'Imtiyaz']\n",
            "After value change in list:  [2, 2.3, (4+5j), True, 'Imtiyaz']\n",
            "Original tuple:  (1, 2, 34, 5, 55, 45, 33)\n"
          ]
        },
        {
          "output_type": "error",
          "ename": "TypeError",
          "evalue": "'tuple' object does not support item assignment",
          "traceback": [
            "\u001b[0;31m---------------------------------------------------------------------------\u001b[0m",
            "\u001b[0;31mTypeError\u001b[0m                                 Traceback (most recent call last)",
            "\u001b[0;32m/tmp/ipython-input-2203854548.py\u001b[0m in \u001b[0;36m<cell line: 0>\u001b[0;34m()\u001b[0m\n\u001b[1;32m     11\u001b[0m \u001b[0mtuple_cont\u001b[0m \u001b[0;34m=\u001b[0m \u001b[0;34m(\u001b[0m\u001b[0;36m1\u001b[0m\u001b[0;34m,\u001b[0m\u001b[0;36m2\u001b[0m\u001b[0;34m,\u001b[0m\u001b[0;36m34\u001b[0m\u001b[0;34m,\u001b[0m\u001b[0;36m5\u001b[0m\u001b[0;34m,\u001b[0m\u001b[0;36m55\u001b[0m\u001b[0;34m,\u001b[0m\u001b[0;36m45\u001b[0m\u001b[0;34m,\u001b[0m\u001b[0;36m33\u001b[0m\u001b[0;34m)\u001b[0m\u001b[0;34m\u001b[0m\u001b[0;34m\u001b[0m\u001b[0m\n\u001b[1;32m     12\u001b[0m \u001b[0mprint\u001b[0m \u001b[0;34m(\u001b[0m\u001b[0;34m\"Original tuple: \"\u001b[0m\u001b[0;34m,\u001b[0m \u001b[0mtuple_cont\u001b[0m\u001b[0;34m)\u001b[0m\u001b[0;34m\u001b[0m\u001b[0;34m\u001b[0m\u001b[0m\n\u001b[0;32m---> 13\u001b[0;31m \u001b[0mtuple_cont\u001b[0m\u001b[0;34m[\u001b[0m\u001b[0;36m2\u001b[0m\u001b[0;34m]\u001b[0m \u001b[0;34m=\u001b[0m \u001b[0;36m22\u001b[0m\u001b[0;34m\u001b[0m\u001b[0;34m\u001b[0m\u001b[0m\n\u001b[0m\u001b[1;32m     14\u001b[0m \u001b[0mprint\u001b[0m \u001b[0;34m(\u001b[0m\u001b[0;34m\"After change tuple: \"\u001b[0m\u001b[0;34m,\u001b[0m \u001b[0mtuple_cont\u001b[0m\u001b[0;34m)\u001b[0m\u001b[0;34m\u001b[0m\u001b[0;34m\u001b[0m\u001b[0m\n\u001b[1;32m     15\u001b[0m \u001b[0;34m\u001b[0m\u001b[0m\n",
            "\u001b[0;31mTypeError\u001b[0m: 'tuple' object does not support item assignment"
          ]
        }
      ]
    },
    {
      "cell_type": "code",
      "source": [
        "# 6.  Write a function to demonstrate the behavior of mutable and immutable arguments.\n",
        "\n",
        "#mutability\n",
        "\"\"\"objects whose state or value can be changed after they are created are called as mutable objects\n",
        "list,dict,set are type of mutable object which support item assignment\"\"\"\n",
        "\n",
        "list_value1 = [1, 2, 3, 4.3, (3+5j), True, 'Imtiyaz']\n",
        "print(f\"Original list value: {list_value1}\")\n",
        "list_value1[0] = 100     #replace word from list cont[0]\n",
        "list_value1[6] = \"Md\"    #replace word from list cont[6]\n",
        "print(f\"After change list value: {list_value1}\")\n",
        "\n",
        "#immutable\n",
        "\"\"\"objects whose state or value can not be changed after they are created are called as immutable objects.\n",
        "string,Int, float and tuple are type of immutable object, doesn't supports item assignment\"\"\"\n",
        "\n",
        "String_value1 = \"Imtiyaz\"\n",
        "String_value1[1]= \"n\"\n",
        "String_value1             #it gives error ('str' object does not support item assignment)\n"
      ],
      "metadata": {
        "id": "OYM4invtqt8E",
        "colab": {
          "base_uri": "https://localhost:8080/",
          "height": 228
        },
        "outputId": "4e50ca2b-879e-4edf-ac56-fe55e23ccf2b"
      },
      "execution_count": 3,
      "outputs": [
        {
          "output_type": "stream",
          "name": "stdout",
          "text": [
            "Original list value: [1, 2, 3, 4.3, (3+5j), True, 'Imtiyaz']\n",
            "After change list value: [100, 2, 3, 4.3, (3+5j), True, 'Md']\n"
          ]
        },
        {
          "output_type": "error",
          "ename": "TypeError",
          "evalue": "'str' object does not support item assignment",
          "traceback": [
            "\u001b[0;31m---------------------------------------------------------------------------\u001b[0m",
            "\u001b[0;31mTypeError\u001b[0m                                 Traceback (most recent call last)",
            "\u001b[0;32m/tmp/ipython-input-84091675.py\u001b[0m in \u001b[0;36m<cell line: 0>\u001b[0;34m()\u001b[0m\n\u001b[1;32m     16\u001b[0m \u001b[0;34m\u001b[0m\u001b[0m\n\u001b[1;32m     17\u001b[0m \u001b[0mString_value1\u001b[0m \u001b[0;34m=\u001b[0m \u001b[0;34m\"Imtiyaz\"\u001b[0m\u001b[0;34m\u001b[0m\u001b[0;34m\u001b[0m\u001b[0m\n\u001b[0;32m---> 18\u001b[0;31m \u001b[0mString_value1\u001b[0m\u001b[0;34m[\u001b[0m\u001b[0;36m1\u001b[0m\u001b[0;34m]\u001b[0m\u001b[0;34m=\u001b[0m \u001b[0;34m\"n\"\u001b[0m\u001b[0;34m\u001b[0m\u001b[0;34m\u001b[0m\u001b[0m\n\u001b[0m\u001b[1;32m     19\u001b[0m \u001b[0mString_value1\u001b[0m\u001b[0;34m\u001b[0m\u001b[0;34m\u001b[0m\u001b[0m\n",
            "\u001b[0;31mTypeError\u001b[0m: 'str' object does not support item assignment"
          ]
        }
      ]
    },
    {
      "cell_type": "code",
      "source": [
        "# 7.Write a program that performs basic arithmetic operations on two user-input numbers.\n",
        "num1 = int(input(\"Enter the first number: \"))\n",
        "num2 = int(input(\"Enter the second number: \"))\n",
        "print(\"addition: \", num1+num2)\n",
        "print(\"Subtraction: \", num1-num2)\n",
        "print(\"Multiplication: \", num1*num2)\n",
        "if num2 != 0:\n",
        "    print(\"Division: \", num1 / num2)\n",
        "else:\n",
        "    print(\"Division: Cannot divide by zero.\")"
      ],
      "metadata": {
        "colab": {
          "base_uri": "https://localhost:8080/"
        },
        "id": "vhYvNgb7G2_E",
        "outputId": "6e756a2f-e61a-4e03-8fce-91113f21d43a"
      },
      "execution_count": null,
      "outputs": [
        {
          "output_type": "stream",
          "name": "stdout",
          "text": [
            "Enter the first number: 52\n",
            "Enter the second number: 5\n",
            "addition:  57\n",
            "Subtraction:  47\n",
            "Multiplication:  260\n",
            "Division:  10.4\n"
          ]
        }
      ]
    },
    {
      "cell_type": "code",
      "source": [
        "# 8.Write a program to demonstrate the use of logical operators\n",
        "#\"and\" ogical operators\n",
        "print(\"Result of 'AND' logical operators:\")\n",
        "print(True and True)\n",
        "print(True and False)\n",
        "print(False and True)\n",
        "print(False and False)\n",
        "# \"or\" ogical operators\n",
        "print(\"Result of 'OR' logical operators:\")\n",
        "print(True or True)\n",
        "print(True or False)\n",
        "print(False or True)\n",
        "print(False or False)\n",
        "# \"not\" ogical operators\n",
        "print(\"Result of 'NOT' logical operators:\")\n",
        "print(True)\n",
        "print(False)"
      ],
      "metadata": {
        "id": "ROU9AjxNmsOv",
        "colab": {
          "base_uri": "https://localhost:8080/"
        },
        "outputId": "54c94405-8827-4fad-d760-482831899152"
      },
      "execution_count": null,
      "outputs": [
        {
          "output_type": "stream",
          "name": "stdout",
          "text": [
            "Result of 'AND' logical operators:\n",
            "True\n",
            "False\n",
            "False\n",
            "False\n",
            "Result of 'OR' logical operators:\n",
            "True\n",
            "True\n",
            "True\n",
            "False\n",
            "Result of 'NOT' logical operators:\n",
            "True\n",
            "False\n"
          ]
        }
      ]
    },
    {
      "cell_type": "code",
      "source": [
        "# 9.Write a Python program to convert user input from string to integer, float, and boolean types\n",
        "\n",
        "# Note:- Cannot convert string value to integer and float.\n",
        "\n",
        "user_input = input(\"Enter a value : \")   # Get input from user\n",
        "str_value = str(user_input) # convert to string\n",
        "print(\"after convert str-value is: \", str_value)\n",
        "\n",
        "int_value = int(user_input) # Convert to integer\n",
        "print(\"after convert integer-value is: \", int_value)\n",
        "\n",
        "float_value = float(user_input) # Convert to float\n",
        "print(\"after convert float-value is: \", float_value)\n",
        "\n",
        "bool_value = bool(user_input) #Convert to boolean (Note:- only empty strings convert to False)\n",
        "print(\"after convert boolean value is: \", bool_value)"
      ],
      "metadata": {
        "colab": {
          "base_uri": "https://localhost:8080/"
        },
        "id": "RQRdlxb5uSfE",
        "outputId": "5ce1ff98-bd03-40e2-eec6-2f46eddc3a1c"
      },
      "execution_count": null,
      "outputs": [
        {
          "output_type": "stream",
          "name": "stdout",
          "text": [
            "Enter a value: 45\n",
            "after convert str-value is:  45\n",
            "after convert integer-value is:  45\n",
            "after convert float-value is:  45.0\n",
            "after convert boolean value is:  True\n"
          ]
        }
      ]
    },
    {
      "cell_type": "code",
      "source": [
        "# 10.Write code to demonstrate type casting with list elements.\n",
        "# List of strings (representing numbers)\n",
        "string_list = ['1', '2', '3', '4']\n",
        "\n",
        "# Convert each element to integer\n",
        "int_list = [int(item) for item in string_list]\n",
        "\n",
        "# Convert each element to float\n",
        "float_list = [float(item) for item in string_list]\n",
        "\n",
        "# Convert each element to boolean\n",
        "bool_list = [bool(item) for item in string_list]\n",
        "\n",
        "# Display the results\n",
        "print(\"Original list (strings):\", string_list)\n",
        "print(\"List as integers:\", int_list)\n",
        "print(\"List as floats:\", float_list)\n",
        "print(\"List as booleans:\", bool_list)\n"
      ],
      "metadata": {
        "colab": {
          "base_uri": "https://localhost:8080/"
        },
        "id": "xvszhdgi68K5",
        "outputId": "6223dd67-5954-49d3-e4b1-52595d24a9b4"
      },
      "execution_count": null,
      "outputs": [
        {
          "output_type": "stream",
          "name": "stdout",
          "text": [
            "Original list (strings): ['1', '2', '3', '4']\n",
            "List as integers: [1, 2, 3, 4]\n",
            "List as floats: [1.0, 2.0, 3.0, 4.0]\n",
            "List as booleans: [True, True, True, True]\n"
          ]
        }
      ]
    },
    {
      "cell_type": "code",
      "source": [
        "# 11.Write a program that checks if a number is positive, negative, or zero.\n",
        "# Get input from user\n",
        "user_num = int(input(\"Enter a int number: \"))\n",
        "\n",
        "if user_num > 0:\n",
        "    print(\"The number\", user_num, \"is positive.\")\n",
        "elif user_num < 0:\n",
        "    print(\"The number\", user_num, \"is negative.\")\n",
        "else:\n",
        "    print(\"The number\", user_num, \"is zero.\")"
      ],
      "metadata": {
        "colab": {
          "base_uri": "https://localhost:8080/"
        },
        "id": "10WCBMlY7b5e",
        "outputId": "02531b1d-22ff-48ec-bd19-54a56cbb2a1f"
      },
      "execution_count": null,
      "outputs": [
        {
          "output_type": "stream",
          "name": "stdout",
          "text": [
            "Enter a int number: 0\n",
            "The number 0 is zero.\n"
          ]
        }
      ]
    },
    {
      "cell_type": "code",
      "source": [
        "# 12.Write a for loop to print numbers from 1 to 10.\n",
        "a = 1\n",
        "b = 11\n",
        "for i in range(a, b):\n",
        "  print(i)\n",
        "# another way to print\n",
        "print(\"another way to print:\")\n",
        "list(range(a, b))\n"
      ],
      "metadata": {
        "colab": {
          "base_uri": "https://localhost:8080/"
        },
        "id": "qsQdkfvoBMFs",
        "outputId": "402d90a8-3242-4af7-8b5e-2fd4347cc205"
      },
      "execution_count": null,
      "outputs": [
        {
          "output_type": "stream",
          "name": "stdout",
          "text": [
            "1\n",
            "2\n",
            "3\n",
            "4\n",
            "5\n",
            "6\n",
            "7\n",
            "8\n",
            "9\n",
            "10\n",
            "another way to print:\n"
          ]
        },
        {
          "output_type": "execute_result",
          "data": {
            "text/plain": [
              "[1, 2, 3, 4, 5, 6, 7, 8, 9, 10]"
            ]
          },
          "metadata": {},
          "execution_count": 14
        }
      ]
    },
    {
      "cell_type": "code",
      "source": [
        "# 13.Write a Python program to find the sum of all even numbers between 1 and 50.\n",
        "even_sum = 0\n",
        "for i in range(1, 51):\n",
        "    if i % 2 == 0:\n",
        "        even_sum += i\n",
        "print(\"Sum of even numbers from 1 to 50 is:\", even_sum)"
      ],
      "metadata": {
        "colab": {
          "base_uri": "https://localhost:8080/"
        },
        "id": "an5AsDFAJgQg",
        "outputId": "ecab269a-ad0a-44ad-d216-2eba4044f756"
      },
      "execution_count": null,
      "outputs": [
        {
          "output_type": "stream",
          "name": "stdout",
          "text": [
            "Sum of even numbers from 1 to 50 is: 650\n"
          ]
        }
      ]
    },
    {
      "cell_type": "code",
      "source": [
        "# 14.Write a program to reverse a string using a while loop.\n",
        "# Get input from the user\n",
        "text = input(\"Enter a string: \")\n",
        "\n",
        "# Initialize variables\n",
        "reversed_text = \"\"\n",
        "index = len(text) - 1\n",
        "\n",
        "# Reverse the string using a while loop\n",
        "while index >= 0:\n",
        "    reversed_text += text[index]\n",
        "    index -= 1\n",
        "\n",
        "# Display the reversed string\n",
        "print(\"Reversed string:\", reversed_text)"
      ],
      "metadata": {
        "colab": {
          "base_uri": "https://localhost:8080/"
        },
        "id": "QnHUe0eJSBst",
        "outputId": "0ed2a091-f317-4081-b2c2-e148c0bddd44"
      },
      "execution_count": null,
      "outputs": [
        {
          "output_type": "stream",
          "name": "stdout",
          "text": [
            "Enter a string: imtiyaz\n",
            "Reversed string: zayitmi\n"
          ]
        }
      ]
    },
    {
      "cell_type": "code",
      "source": [
        "# 15.Write a Python program to calculate the factorial of a number provided by the user using a while loop.\n",
        "\n",
        "num = int(input(\"Enter a non-negative integer: \"))  # Get input from user\n",
        "\n",
        "# Check if the number is negative\n",
        "if num < 0:\n",
        "    print(\"Factorial is not defined for negative numbers.\")\n",
        "else:\n",
        "    factorial = 1\n",
        "    i = 1\n",
        "    while i <= num:\n",
        "        factorial *= i\n",
        "        i += 1\n",
        "\n",
        "    print(\"Factorial of\", num, \"is: \", factorial)"
      ],
      "metadata": {
        "colab": {
          "base_uri": "https://localhost:8080/"
        },
        "id": "9dBh7cW3Tr8J",
        "outputId": "c52c30c7-6fb5-4cbf-aff4-e71ff4816ef6"
      },
      "execution_count": null,
      "outputs": [
        {
          "output_type": "stream",
          "name": "stdout",
          "text": [
            "Enter a non-negative integer: -5\n",
            "Factorial is not defined for negative numbers.\n"
          ]
        }
      ]
    }
  ]
}