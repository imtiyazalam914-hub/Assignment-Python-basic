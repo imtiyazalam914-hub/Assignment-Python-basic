{
  "nbformat": 4,
  "nbformat_minor": 0,
  "metadata": {
    "colab": {
      "provenance": []
    },
    "kernelspec": {
      "name": "python3",
      "display_name": "Python 3"
    },
    "language_info": {
      "name": "python"
    }
  },
  "cells": [
    {
      "cell_type": "markdown",
      "source": [
        "#Q1. **What are data structures, and why are they important?**\n",
        "\n",
        ">Data structures are organized ways to store, manage, and retrieve data efficiently. Examples include lists, stacks, queues, trees, and dictionaries. They are important because they determine how efficiently a program can process data, affecting both performance and scalability\n",
        "\n",
        "#Q2. **Explain the difference between mutable and immutable data types with examples.**\n",
        "\n",
        ">Mutable data types can be changed after creation.\n",
        "\n",
        "Example:\n",
        "\n",
        " my_list = [1, 2, 3]\n",
        "\n",
        " my_list[0] = 10  # List is mutable\n",
        "\n",
        ">Immutable data types cannot be changed after creation.\n",
        "\n",
        "Example:\n",
        "\n",
        "my_tuple = (1, 2, 3)\n",
        "\n",
        "my_tuple[0] = 10  # Error: Tuples are immutable\n",
        "\n",
        "#Q3. **What are the main differences between lists and tuples in Python?**\n",
        "\n",
        ">Lists: Mutable, slower, use more memory.\n",
        "\n",
        ">Tuples: Immutable, faster, use less memory.\n",
        "\n",
        "#Q4. **Describe how dictionaries store data.**\n",
        ">Dictionaries store data in key-value pairs using a hash table. Each key is hashed to a specific index, allowing for fast lookups. Keys must be unique and immutable.\n",
        "\n",
        "Example:\n",
        "\n",
        "person = {\"name\": \"Alice\", \"age\": 25}\n",
        "\n",
        "#Q5. **Why might you use a set instead of a list in Python?**\n",
        ">Sets automatically remove duplicates and offer faster membership tests due to hashing\n",
        "\n",
        "\n",
        "#Q6. **What is a string in Python, and how is it different from a list?**\n",
        ">A string is an immutable sequence of characters.\n",
        "A list is a mutable sequence of items.\n",
        "\n",
        "Example:\n",
        "\n",
        "s = \"hello\"     # Immutable\n",
        "l = ['h', 'e']  # Mutable\n",
        "\n",
        "#Q7. **How do tuples ensure data integrity in Python?**\n",
        ">Tuples are immutable, so their content cannot be changed after creation. This protects the data from accidental modification and ensures consistency, especially when passing data between functions.\n",
        "\n",
        "#Q8. **What is a hash table, and how does it relate to dictionaries in Python?**\n",
        ">A hash table maps keys to values using a hash function. Python’s dictionaries are implemented as hash tables.\n",
        "\n",
        "#Q9. **Can lists contain different data types in Python?**\n",
        ">Yes, lists are heterogeneous,it can hold elements of different data types, like integers, strings, and even other lists.\n",
        "\n",
        "Example:\n",
        "\n",
        "mixed = [1, \"hello\", 3.14, True]\n",
        "\n",
        "#Q10. **Explain why strings are immutable in Python.**\n",
        ">Strings are immutable to improve performance, ensure security, and make them hashable for use as dictionary keys.\n",
        "\n",
        "#Q11. **What advantages do dictionaries offer over lists for certain tasks?**\n",
        ">Dictionaries allow faster lookup (O(1)) using keys, making them better for data retrieval based on unique identifiers.\n",
        "\n",
        "#Q12. **Describe a scenario where using a tuple would be preferable over a list.**\n",
        ">Use a tuple when:\n",
        "You want to store fixed data, such as coordinates (x, y) or a date (day, month, year).\n",
        "You want the data to be read-only and not modified.\n",
        "\n",
        "#Q13. **How do sets handle duplicate values in Python?**\n",
        ">Sets automatically eliminate duplicate values, ensuring each element is unique.\n",
        "\n",
        "Example:\n",
        "\n",
        "s = {1, 2, 2, 3}\n",
        "print(s)  # Output: {1, 2, 3}\n",
        "\n",
        "#Q14. **How does the “in” keyword work differently for lists and dictionaries?**\n",
        "\n",
        ">List: Checks if a value exists.\n",
        "\n",
        ">Dictionary: Checks if a key exists.\n",
        "\n",
        "#Q15. **Can you modify the elements of a tuple? Explain why or why not.**\n",
        ">No, tuples are immutable, so their elements cannot be changed after creation.\n",
        "\n",
        "#Q16. **What is a nested dictionary, and give an example of its use case.**\n",
        ">A nested dictionary is a dictionary within another dictionary.\n",
        "\n",
        "Example:\n",
        "\n",
        "students = {'John': {'age': 20, 'grade': 'A'}}\n",
        "\n",
        "\n",
        "#Q17. **Describe the time complexity of accessing elements in a dictionary.**\n",
        ">Accessing elements in a dictionary is generally O(1) due to the underlying hash table.\n",
        "\n",
        "#Q18. **In what situations are lists preferred over dictionaries?**\n",
        "\n",
        ">When data is ordered and indexed.\n",
        "\n",
        ">When you only need sequential storage.\n",
        "\n",
        ">When keys are not necessary.\n",
        "\n",
        "#Q19. **Why are dictionaries considered unordered, and how does that affect data retrieval?**\n",
        ">Before Python 3.7, dictionaries were unordered (no guarantee of key order).\n",
        ">From Python 3.7+, they preserve insertion order, but data is still retrieved using keys, not position\n",
        "\n",
        "#Q20. **Explain the difference between a list and a dictionary in terms of data retrieval.**\n",
        "\n",
        ">List: Accessed by index (e.g., list[0]).\n",
        "\n",
        ">Dictionary: Accessed by key (e.g., dict[\"name\"]), allowing faster and more semantic lookups."
      ],
      "metadata": {
        "id": "DwVjZ5_f6Oi5"
      }
    },
    {
      "cell_type": "code",
      "source": [
        "# 1.Write a code to create a string with your name and print it.\n",
        "Name_Str = \"Md. Imtiyaz alam\"\n",
        "print(f\"My name is : {Name_Str}\")"
      ],
      "metadata": {
        "colab": {
          "base_uri": "https://localhost:8080/"
        },
        "id": "i8QEkxmS6NzW",
        "outputId": "f6e0cd61-f854-4a19-9443-95b19b42833e"
      },
      "execution_count": null,
      "outputs": [
        {
          "output_type": "stream",
          "name": "stdout",
          "text": [
            "My name is : Md. Imtiyaz alam\n"
          ]
        }
      ]
    },
    {
      "cell_type": "code",
      "source": [
        "# 2.Write a code to find the length of the string \"Hello World\".\n",
        "Str1 = \"Hello World\"\n",
        "print(f\"Given string: {Str1}\")\n",
        "print(f\"lenght of the string is: {len(Str1)}\")  #length of the string"
      ],
      "metadata": {
        "colab": {
          "base_uri": "https://localhost:8080/"
        },
        "id": "4AjMFvJh6nFA",
        "outputId": "e2a25354-2984-4e04-f373-b29513a46368"
      },
      "execution_count": null,
      "outputs": [
        {
          "output_type": "stream",
          "name": "stdout",
          "text": [
            "Given string: Hello World\n",
            "lenght of the string is: 11\n"
          ]
        }
      ]
    },
    {
      "cell_type": "code",
      "source": [
        "# 3. Write a code to slice the first 3 characters from the string \"Python Programming\".\n",
        "Str2 = \"paython Programming\"\n",
        "print(f\"Given string: {Str2}\")\n",
        "print(f\"first 3 character from the string are : {Str2[:3]}\")"
      ],
      "metadata": {
        "colab": {
          "base_uri": "https://localhost:8080/"
        },
        "id": "Uh7JTsq57ZXE",
        "outputId": "d0b79539-47ea-4021-9d33-2075221e3b38"
      },
      "execution_count": null,
      "outputs": [
        {
          "output_type": "stream",
          "name": "stdout",
          "text": [
            "Given string: paython Programming\n",
            "first 3 character from the string are : pay\n"
          ]
        }
      ]
    },
    {
      "cell_type": "code",
      "source": [
        "# 4. Write a code to convert the string \"hello\" to uppercase.\n",
        "Str3 = \"hello\"\n",
        "print(f\"Given string: {Str3}\")\n",
        "print(f\"Uppercase of string is: {Str3.upper()}\")"
      ],
      "metadata": {
        "colab": {
          "base_uri": "https://localhost:8080/"
        },
        "id": "zSu-dWwH7_dv",
        "outputId": "76c06284-ce23-42f5-97fd-6aa3d4f454a6"
      },
      "execution_count": null,
      "outputs": [
        {
          "output_type": "stream",
          "name": "stdout",
          "text": [
            "Given string: hello\n",
            "Uppercase of string is: HELLO\n"
          ]
        }
      ]
    },
    {
      "cell_type": "code",
      "source": [
        "# 5.Write a code to replace the word \"apple\" with \"orange\" in the string \"I like apple\".\n",
        "Str4 = \"I like apple\"\n",
        "print(f\"Given string : {Str4}\")\n",
        "print(f\"After replace word in the string : {Str4.replace(\"apple\", \"Orange\")}\")"
      ],
      "metadata": {
        "colab": {
          "base_uri": "https://localhost:8080/"
        },
        "id": "Hnb8GkBLJ2QU",
        "outputId": "1349c6dd-c873-4662-e435-5d20b3c6b204"
      },
      "execution_count": null,
      "outputs": [
        {
          "output_type": "stream",
          "name": "stdout",
          "text": [
            "Given string : I like apple\n",
            "After replace word in the string : I like Orange\n"
          ]
        }
      ]
    },
    {
      "cell_type": "code",
      "source": [
        "# 6.Write a code to create a list with numbers 1 to 5 and print it.\n",
        "Num = list(range(1,6))  # Range from 1-5\n",
        "print(f\"The range value from (1-5) is : {Num}\")\n",
        "\n",
        "#OR\n",
        "\n",
        "Numbers = [Num1 for Num1 in range(1, 6)]\n",
        "print(f\"The range value from (1-5) is : {Numbers}\")"
      ],
      "metadata": {
        "colab": {
          "base_uri": "https://localhost:8080/"
        },
        "id": "bjXX8BppLvaQ",
        "outputId": "66ea463e-e67e-4208-f756-1d5b8c539054"
      },
      "execution_count": null,
      "outputs": [
        {
          "output_type": "stream",
          "name": "stdout",
          "text": [
            "The range value from (1-5) is : [1, 2, 3, 4, 5]\n",
            "The range value from (1-5) is : [1, 2, 3, 4, 5]\n"
          ]
        }
      ]
    },
    {
      "cell_type": "code",
      "source": [
        "# 7.Write a code to append the number 10 to the list [1, 2, 3, 4].\n",
        "My_list = [1,2,3,4]\n",
        "print(f\"Given list : {My_list}\")\n",
        "My_list.append(10)     # Append the number 10\n",
        "print(f\"After adding value in list : {My_list}\")\n"
      ],
      "metadata": {
        "colab": {
          "base_uri": "https://localhost:8080/"
        },
        "id": "mgAKswytNAE9",
        "outputId": "1219eb37-2dba-4756-cc5c-49d2094028e7"
      },
      "execution_count": null,
      "outputs": [
        {
          "output_type": "stream",
          "name": "stdout",
          "text": [
            "Given list : [1, 2, 3, 4]\n",
            "After adding value in list : [1, 2, 3, 4, 10]\n"
          ]
        }
      ]
    },
    {
      "cell_type": "code",
      "source": [
        "# 8.Write a code to remove the number 3 from the list [1, 2, 3, 4, 5].\n",
        "My_list1 = [1,2,3,4,5]\n",
        "print(f\"Given list : {My_list1}\")\n",
        "My_list1.remove(3)     # remove the number 3\n",
        "print(f\"After remove 3 value in list : {My_list1}\")\n"
      ],
      "metadata": {
        "colab": {
          "base_uri": "https://localhost:8080/"
        },
        "id": "8f5Pt9bHMqOk",
        "outputId": "22a7552e-28ea-49db-8ed1-fee0e480f426"
      },
      "execution_count": null,
      "outputs": [
        {
          "output_type": "stream",
          "name": "stdout",
          "text": [
            "Given list : [1, 2, 3, 4, 5]\n",
            "After remove 3 value in list : [1, 2, 4, 5]\n"
          ]
        }
      ]
    },
    {
      "cell_type": "code",
      "source": [
        "# 9.Write a code to access the second element in the list ['a', 'b', 'c', 'd'].\n",
        "My_list2 = ['a','b','c','d']\n",
        "print(f\"Given list : {My_list2}\")\n",
        "print(f\"2nd index element from list is: {My_list2[1]}\")  # accessing 2nd index element from list"
      ],
      "metadata": {
        "colab": {
          "base_uri": "https://localhost:8080/"
        },
        "id": "nVVQP5-UQ7gF",
        "outputId": "27f2c4c7-5b83-473a-ec0f-2bef94e706a6"
      },
      "execution_count": null,
      "outputs": [
        {
          "output_type": "stream",
          "name": "stdout",
          "text": [
            "Given list : ['a', 'b', 'c', 'd']\n",
            "2nd index element from list is: b\n"
          ]
        }
      ]
    },
    {
      "cell_type": "code",
      "source": [
        "# 10.Write a code to reverse the list [10, 20, 30, 40, 50].\n",
        "My_list3 = [10,20,30,40,50]\n",
        "print(f\"Given list : {My_list3}\")\n",
        "print(f\"After reverse the list : {My_list3[::-1]}\")  #reverse the list"
      ],
      "metadata": {
        "colab": {
          "base_uri": "https://localhost:8080/"
        },
        "id": "SzVBlZysTxAQ",
        "outputId": "f63279b9-368a-4a64-f771-419b5d266b2c"
      },
      "execution_count": null,
      "outputs": [
        {
          "output_type": "stream",
          "name": "stdout",
          "text": [
            "Given list : [10, 20, 30, 40, 50]\n",
            "After reverse the list : [50, 40, 30, 20, 10]\n"
          ]
        }
      ]
    },
    {
      "cell_type": "code",
      "source": [
        "# 11. Write a code to create a tuple with the elements 100, 200, 300 and print it.\n",
        "My_element_value = 100,200,300\n",
        "print(\"Given element is : \",100, 200, 300)\n",
        "print(f\"The tuple is: {My_element_value}\")"
      ],
      "metadata": {
        "colab": {
          "base_uri": "https://localhost:8080/"
        },
        "id": "TJgD5LeuUb-k",
        "outputId": "8c1c8847-05e2-4a2d-b530-90069b7c3c1a"
      },
      "execution_count": null,
      "outputs": [
        {
          "output_type": "stream",
          "name": "stdout",
          "text": [
            "Given element is :  100 200 300\n",
            "The tuple is: (100, 200, 300)\n"
          ]
        }
      ]
    },
    {
      "cell_type": "code",
      "source": [
        "# 12.Write a code to access the second-to-last element of the tuple ('red', 'green', 'blue', 'yellow').\n",
        "color_tuple = ('red','greeen','blue','yellow')\n",
        "print(\"Given tuple is : \",color_tuple)\n",
        "print(f\"2nd-to-last element of the tuple is: {color_tuple[1:]}\")\n"
      ],
      "metadata": {
        "colab": {
          "base_uri": "https://localhost:8080/"
        },
        "id": "6pR9vyzuVASX",
        "outputId": "13e45024-cfa3-42bf-d651-8922815686f1"
      },
      "execution_count": null,
      "outputs": [
        {
          "output_type": "stream",
          "name": "stdout",
          "text": [
            "Given tuple is :  ('red', 'greeen', 'blue', 'yellow')\n",
            "2nd-to-last element of the tuple is: ('greeen', 'blue', 'yellow')\n"
          ]
        }
      ]
    },
    {
      "cell_type": "code",
      "source": [
        "# 13.Write a code to find the minimum number in the tuple (10, 20, 5, 15).\n",
        "Num_tuple = (10,20,5,15)\n",
        "print(\"Given tuple is : \",Num_tuple)\n",
        "print(f\"Minimum number in the tuple is: {min(Num_tuple)}\")     #find the minimum number"
      ],
      "metadata": {
        "colab": {
          "base_uri": "https://localhost:8080/"
        },
        "id": "Sak2klEPZkwJ",
        "outputId": "a42fd516-f9fe-4998-97ed-c10b256f4785"
      },
      "execution_count": null,
      "outputs": [
        {
          "output_type": "stream",
          "name": "stdout",
          "text": [
            "Given tuple is :  (10, 20, 5, 15)\n",
            "Minimum number in the tuple is: 5\n"
          ]
        }
      ]
    },
    {
      "cell_type": "code",
      "source": [
        "# 14.Write a code to find the index of the element \"cat\" in the tuple ('dog', 'cat', 'rabbit').\n",
        "animal_tuple = ('dog','cat','rabbit')\n",
        "print(\"Given tuple is : \",animal_tuple)\n",
        "print(f\"index of the 'cat' element in the tuple is: {animal_tuple.index('cat')}\")"
      ],
      "metadata": {
        "colab": {
          "base_uri": "https://localhost:8080/"
        },
        "id": "0pP_1LPtcrGs",
        "outputId": "2d30c5e5-7f15-47ea-e3b5-c502d70f4b32"
      },
      "execution_count": null,
      "outputs": [
        {
          "output_type": "stream",
          "name": "stdout",
          "text": [
            "Given tuple is :  ('dog', 'cat', 'rabbit')\n",
            "index of the 'cat' element in the tuple is: 1\n"
          ]
        }
      ]
    },
    {
      "cell_type": "code",
      "source": [
        "# 15.Write a code to create a tuple containing three different fruits and check if \"kiwi\" is in it.\n",
        "Fruits_tuple = ('apply','banana','orange')\n",
        "print(\"Given fruits are : \",Fruits_tuple)\n",
        "check_kiwi = 'kiwi' in Fruits_tuple    #checking 'kiwi' exist or not\n",
        "print(\"Is 'kiwi' in Fruits?: \", check_kiwi)"
      ],
      "metadata": {
        "colab": {
          "base_uri": "https://localhost:8080/"
        },
        "id": "-3rxM5kkd8QI",
        "outputId": "d051ac31-7d9e-4320-d3a3-d39539c3e20f"
      },
      "execution_count": null,
      "outputs": [
        {
          "output_type": "stream",
          "name": "stdout",
          "text": [
            "Given fruits are :  ('apply', 'banana', 'orange')\n",
            "Is 'kiwi' in Fruits?:  False\n"
          ]
        }
      ]
    },
    {
      "cell_type": "code",
      "source": [
        "# 16.Write a code to create a set with the elements 'a', 'b', 'c' and print it.\n",
        "My_element = 'a','b','c'\n",
        "print(\"Given element : 'a','b','c'\" )\n",
        "print(f\"The set is: {set(My_element)}\")"
      ],
      "metadata": {
        "colab": {
          "base_uri": "https://localhost:8080/"
        },
        "id": "hzCAzOxhgSXK",
        "outputId": "3bb58ae5-0c52-4183-d477-74eb8238d54f"
      },
      "execution_count": null,
      "outputs": [
        {
          "output_type": "stream",
          "name": "stdout",
          "text": [
            "Given element : 'a','b','c'\n",
            "The set is: {'b', 'a', 'c'}\n"
          ]
        }
      ]
    },
    {
      "cell_type": "code",
      "source": [
        "# 17.Write a code to clear all elements from the set {1, 2, 3, 4, 5}.\n",
        "My_set = {1,2,3,4,5}\n",
        "print(\"Given set:\", My_set)\n",
        "My_set.clear()           #clear all elements\n",
        "print(f\"After clear set: {My_set}\")"
      ],
      "metadata": {
        "colab": {
          "base_uri": "https://localhost:8080/"
        },
        "id": "_q9_dVPPgnBL",
        "outputId": "8c387d27-4afb-4f05-f104-c0f1a162a835"
      },
      "execution_count": null,
      "outputs": [
        {
          "output_type": "stream",
          "name": "stdout",
          "text": [
            "Given set: {1, 2, 3, 4, 5}\n",
            "After clear set: set()\n"
          ]
        }
      ]
    },
    {
      "cell_type": "code",
      "source": [
        "# 18.Write a code to remove the element 4 from the set {1, 2, 3, 4}.\n",
        "My_set1 = {1,2,3,4}\n",
        "print(f\"Given list : {My_set1}\")\n",
        "My_set1.remove(4)     # remove the number 4\n",
        "print(f\"After remove 4 value in set : {My_set1}\")"
      ],
      "metadata": {
        "colab": {
          "base_uri": "https://localhost:8080/"
        },
        "id": "K0aw-ZpAipc9",
        "outputId": "54bd9083-0dd6-4f7a-a7d2-009329e7de03"
      },
      "execution_count": null,
      "outputs": [
        {
          "output_type": "stream",
          "name": "stdout",
          "text": [
            "Given list : {1, 2, 3, 4}\n",
            "After remove 4 value in set : {1, 2, 3}\n"
          ]
        }
      ]
    },
    {
      "cell_type": "code",
      "source": [
        "# 19.Write a code to find the union of two sets {1, 2, 3} and {3, 4, 5}.\n",
        "My_set2 = {1,2,3}\n",
        "My_set3 = {3,4,5}\n",
        "print(\"Given sets are {1,2,3} and {3,4,5}\")\n",
        "print(f\"Union of both set is : {My_set2 | My_set3}\") # Union | combines elements from two sets exclusding duplicates"
      ],
      "metadata": {
        "colab": {
          "base_uri": "https://localhost:8080/"
        },
        "id": "yITnmVtfjB6A",
        "outputId": "ad86ce7b-ebec-4e29-f31f-b2da82a5ab4b"
      },
      "execution_count": null,
      "outputs": [
        {
          "output_type": "stream",
          "name": "stdout",
          "text": [
            "Given sets are {1,2,3} and {3,4,5}\n",
            "Union of both set is : {1, 2, 3, 4, 5}\n"
          ]
        }
      ]
    },
    {
      "cell_type": "code",
      "source": [
        "# 20. Write a code to find the intersection of two sets {1, 2, 3} and {2, 3, 4}\n",
        "My_set2 = {1,2,3}\n",
        "My_set3 = {2,3,4}\n",
        "print(\"Given sets are {1,2,3} and {2,3,4}\")\n",
        "print(f\"Union of both set is : {My_set2 & My_set3}\") # Intersection & gives only common element btw sets"
      ],
      "metadata": {
        "colab": {
          "base_uri": "https://localhost:8080/"
        },
        "id": "2hs9m1BQmFVr",
        "outputId": "db5411d4-c1b7-4857-db88-901b80562818"
      },
      "execution_count": null,
      "outputs": [
        {
          "output_type": "stream",
          "name": "stdout",
          "text": [
            "Given sets are {1,2,3} and {2,3,4}\n",
            "Union of both set is : {2, 3}\n"
          ]
        }
      ]
    },
    {
      "cell_type": "code",
      "source": [
        "# 21.Write a code to create a dictionary with the keys \"name\", \"age\", and \"city\", and print it\n",
        "\n",
        "My_Dictionary = {\"name\": \"Md Imtiyaz Alam\", \"age\": \"28\", \"city\": \"Singrauli(MP)\"}\n",
        "print(\"My Dictionary is:\", My_Dictionary)\n"
      ],
      "metadata": {
        "colab": {
          "base_uri": "https://localhost:8080/"
        },
        "id": "mGsq8ZMOm1jH",
        "outputId": "9bc7fe7f-6137-4f11-a6a5-34ce881095fb"
      },
      "execution_count": null,
      "outputs": [
        {
          "output_type": "stream",
          "name": "stdout",
          "text": [
            "My Dictionary is: {'name': 'Md Imtiyaz Alam', 'age': '28', 'city': 'Singrauli(MP)'}\n"
          ]
        }
      ]
    },
    {
      "cell_type": "code",
      "source": [
        "# 22.Write a code to add a new key-value pair \"country\": \"USA\" to the dictionary {'name': 'John', 'age': 25}.\n",
        "\n",
        "My_Dictionary = {\"name\": \"Md Imtiyaz Alam\", \"age\": \"28\", \"city\": \"Singrauli(MP)\"}\n",
        "\n",
        "My_Dictionary['country'] = 'India'       # add a new key value pair \"country\": \"India\" to the disctionary\n",
        "print(\"My Dictionary is:\", My_Dictionary)"
      ],
      "metadata": {
        "colab": {
          "base_uri": "https://localhost:8080/"
        },
        "id": "9j-9htHRrDDs",
        "outputId": "180ee728-fa1b-4796-d427-38711d2910c4"
      },
      "execution_count": null,
      "outputs": [
        {
          "output_type": "stream",
          "name": "stdout",
          "text": [
            "My Dictionary is: {'name': 'Md Imtiyaz Alam', 'age': '28', 'city': 'Singrauli(MP)', 'country': 'India'}\n"
          ]
        }
      ]
    },
    {
      "cell_type": "code",
      "source": [
        "# 23. Write a code to access the value associated with the key \"name\" in the dictionary {'name': 'Alice', 'age': 30}\n",
        "\n",
        "My_Dictionary1 = {'name': 'Md Imtiyaz Alam', 'age': '28', 'city': 'Singrauli(MP)', 'country': 'India'}\n",
        "My_Dictionary_input = input(\"Enter the key from Dictionary like name, age, city, country: \")\n",
        "if My_Dictionary_input in My_Dictionary1:\n",
        "  print(f\"Your {My_Dictionary_input} is :, {My_Dictionary1[My_Dictionary_input]}\")\n",
        "else:\n",
        "  print(\"Key not found in the dictionary.\")"
      ],
      "metadata": {
        "colab": {
          "base_uri": "https://localhost:8080/"
        },
        "id": "7G-IjClysfUi",
        "outputId": "8f270eb6-252d-478c-d73d-3bc3730061a0"
      },
      "execution_count": null,
      "outputs": [
        {
          "output_type": "stream",
          "name": "stdout",
          "text": [
            "Enter the key from Dictionary like name, age, city, country: name\n",
            "Your name is :, Md Imtiyaz Alam\n"
          ]
        }
      ]
    },
    {
      "cell_type": "code",
      "source": [
        "# 24.Write a code to remove the key \"age\" from the dictionary {'name': 'Bob', 'age': 22, 'city': 'New York'}\n",
        "My_Dictionary2 = {'name':'Bob','age':'22','city':'new York'}\n",
        "print(\"Given Dictionary is:\", My_Dictionary2)\n",
        "del My_Dictionary2['age']                              # Remove 'age' key from dictionary\n",
        "print(\"after removing 'age' from dictionary:\", My_Dictionary2)"
      ],
      "metadata": {
        "colab": {
          "base_uri": "https://localhost:8080/"
        },
        "id": "z61nJlUatbGY",
        "outputId": "59e5e0c0-4e34-46c1-8826-1b0868c290d2"
      },
      "execution_count": null,
      "outputs": [
        {
          "output_type": "stream",
          "name": "stdout",
          "text": [
            "Given Dictionary is: {'name': 'Bob', 'age': '22', 'city': 'new York'}\n",
            "after removing 'age' from dictionary: {'name': 'Bob', 'city': 'new York'}\n"
          ]
        }
      ]
    },
    {
      "cell_type": "code",
      "source": [
        "# 25. Write a code to check if the key \"city\" exists in the dictionary {'name': 'Alice', 'city': 'Paris'}\n",
        "My_Dictionary3 = {'name':'Alice','city':'paris'}\n",
        "print(\"Given Dictionary is:\", My_Dictionary3)\n",
        "check_city = 'city' in My_Dictionary3               # checking 'city' is exist or not\n",
        "print(\"Does 'city' exit in dictionary?:\", check_city)"
      ],
      "metadata": {
        "colab": {
          "base_uri": "https://localhost:8080/"
        },
        "id": "JI-w8GGB6H-M",
        "outputId": "6af0897b-4525-49f1-8b14-450c245d2fb1"
      },
      "execution_count": null,
      "outputs": [
        {
          "output_type": "stream",
          "name": "stdout",
          "text": [
            "Given Dictionary is: {'name': 'Alice', 'city': 'paris'}\n",
            "Does 'city' exit in dictionary?: True\n"
          ]
        }
      ]
    },
    {
      "cell_type": "code",
      "source": [
        "# 26.Write a code to create a list, a tuple, and a dictionary, and print them all\n",
        "My_list4 = [1,2,3]\n",
        "My_tuple4 = ('a','b','c')\n",
        "My_Dict = {'name':'Md Imtiyaz alam','age':'28'}\n",
        "print(\"The List is: \", My_list4 )\n",
        "print(\"The tuple is: \", My_tuple4 )\n",
        "print(\"The Dictionary is: \", My_Dict )"
      ],
      "metadata": {
        "colab": {
          "base_uri": "https://localhost:8080/"
        },
        "id": "dURi1nXUA_M1",
        "outputId": "ef3793a3-8a36-4f8e-fa71-8d9e6ee37834"
      },
      "execution_count": null,
      "outputs": [
        {
          "output_type": "stream",
          "name": "stdout",
          "text": [
            "The List is:  [1, 2, 3]\n",
            "The tuple is:  ('a', 'b', 'c')\n",
            "The Dictionary is:  {'name': 'Md Imtiyaz alam', 'age': '28'}\n"
          ]
        }
      ]
    },
    {
      "cell_type": "code",
      "source": [
        "\"\"\" 27.Write a code to create a list of 5 random numbers between 1 and 100, sort it in ascending order, and print the\n",
        "      result.\"\"\"\n",
        "\n",
        "import random    #import 'random' library\n",
        "random_numbers = random.sample(range(1,101),5)\n",
        "random_numbers.sort()                         #assending order\n",
        "print(\"Sorted random numbers in assending order: \", random_numbers)"
      ],
      "metadata": {
        "colab": {
          "base_uri": "https://localhost:8080/"
        },
        "id": "VpMEo__dFZFo",
        "outputId": "91dbc0b6-7c1e-4fb8-c068-577ff30b0135"
      },
      "execution_count": null,
      "outputs": [
        {
          "output_type": "stream",
          "name": "stdout",
          "text": [
            "Sorted random numbers in assending order:  [23, 31, 52, 70, 91]\n"
          ]
        }
      ]
    },
    {
      "cell_type": "code",
      "source": [
        "# 28.Write a code to create a list with strings and print the element at the third index.\n",
        "List_string = ['apply','banana','kiwi','cherry','orange','mango']\n",
        "print(\"Given list of string is :\",List_string)\n",
        "print(\"Element at index 3 is: \", List_string[3])         #Element at index 3"
      ],
      "metadata": {
        "colab": {
          "base_uri": "https://localhost:8080/"
        },
        "id": "0Ms607WCGivc",
        "outputId": "35846302-2a67-49bc-f9df-b4442d1260bc"
      },
      "execution_count": null,
      "outputs": [
        {
          "output_type": "stream",
          "name": "stdout",
          "text": [
            "Given list of string is : ['apply', 'banana', 'kiwi', 'cherry', 'orange', 'mango']\n",
            "Element at index 3 is:  cherry\n"
          ]
        }
      ]
    },
    {
      "cell_type": "code",
      "source": [
        "# 29.Write a code to combine two dictionaries into one and print the result.\n",
        "Dict1 = {'name': 'Md Imtiyaz Alam', 'age': '28'}\n",
        "Dict2 = {'city': 'Singrauli(MP)', 'country': 'India'}\n",
        "combined = {**Dict1, **Dict2}                      #combined Dictonary\n",
        "print(\"Combined Dictonary is :\", combined )"
      ],
      "metadata": {
        "colab": {
          "base_uri": "https://localhost:8080/"
        },
        "id": "ldcHUrhUHeyr",
        "outputId": "2def43d9-e5bb-4b0b-9cdd-fce5ce27c762"
      },
      "execution_count": null,
      "outputs": [
        {
          "output_type": "stream",
          "name": "stdout",
          "text": [
            "Combined Dictonary is : {'name': 'Md Imtiyaz Alam', 'age': '28', 'city': 'Singrauli(MP)', 'country': 'India'}\n"
          ]
        }
      ]
    },
    {
      "cell_type": "code",
      "source": [
        "# 30. Write a code to convert a list of strings into a set.\n",
        "list_string1 = ['apply','banana','kiwi','cherry','orange','mango']\n",
        "print(\"Given list of string is : \", list_string1)\n",
        "set_string = set(list_string1)             #convert a list of string into a set\n",
        "print(\"converted list into set: \", set_string)"
      ],
      "metadata": {
        "colab": {
          "base_uri": "https://localhost:8080/"
        },
        "id": "wODsibsfIUny",
        "outputId": "f14a0f87-8230-426c-da05-1e2f1d2a38e5"
      },
      "execution_count": null,
      "outputs": [
        {
          "output_type": "stream",
          "name": "stdout",
          "text": [
            "Given list of string is :  ['apply', 'banana', 'kiwi', 'cherry', 'orange', 'mango']\n",
            "converted list into set:  {'banana', 'mango', 'kiwi', 'cherry', 'orange', 'apply'}\n"
          ]
        }
      ]
    }
  ]
}